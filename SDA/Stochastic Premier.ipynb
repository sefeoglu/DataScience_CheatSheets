{
 "cells": [
  {
   "cell_type": "markdown",
   "id": "409bdd04",
   "metadata": {},
   "source": [
    "# Random Variables"
   ]
  },
  {
   "cell_type": "markdown",
   "id": "7cba1782",
   "metadata": {},
   "source": [
    "### Definition: \n",
    "\n",
    "A random variable (RV) is a measurable function X: $\\Omega$ $\\to$ E.  $\\Omega$ $\\to$ all possibilities."
   ]
  },
  {
   "cell_type": "markdown",
   "id": "035862d5",
   "metadata": {},
   "source": [
    "* Discrete RV: \n",
    "rolling a dice.\n",
    "* Continuous RV: \n",
    "process measurements or production subject to smaller or larger derivations.\n"
   ]
  },
  {
   "cell_type": "markdown",
   "id": "ce1fa3e3",
   "metadata": {},
   "source": [
    "Discrete RV: X(w) = { $X_{1}$,  $X_{2}$,  $X_{3}$, ..., $X_{n}$} for w $\\in$ $\\Omega$."
   ]
  },
  {
   "cell_type": "markdown",
   "id": "6189d134",
   "metadata": {},
   "source": [
    "Continuous RV: "
   ]
  },
  {
   "cell_type": "markdown",
   "id": "fbfd99b9",
   "metadata": {},
   "source": [
    "Mean(Expectation):\n",
    "$E(X) = X = \\sum$"
   ]
  },
  {
   "cell_type": "markdown",
   "id": "67afd2ab",
   "metadata": {},
   "source": [
    "Standard Derivation:"
   ]
  },
  {
   "cell_type": "markdown",
   "id": "a94d89d4",
   "metadata": {},
   "source": [
    "Independence of RV's"
   ]
  },
  {
   "cell_type": "markdown",
   "id": "0634131e",
   "metadata": {},
   "source": [
    "Variance"
   ]
  },
  {
   "cell_type": "markdown",
   "id": "21e69ded",
   "metadata": {},
   "source": [
    "Covariance"
   ]
  },
  {
   "cell_type": "markdown",
   "id": "33f5190c",
   "metadata": {},
   "source": [
    "Correlation between X and Y"
   ]
  }
 ],
 "metadata": {
  "kernelspec": {
   "display_name": "Python 3 (ipykernel)",
   "language": "python",
   "name": "python3"
  },
  "language_info": {
   "codemirror_mode": {
    "name": "ipython",
    "version": 3
   },
   "file_extension": ".py",
   "mimetype": "text/x-python",
   "name": "python",
   "nbconvert_exporter": "python",
   "pygments_lexer": "ipython3",
   "version": "3.10.9"
  }
 },
 "nbformat": 4,
 "nbformat_minor": 5
}
