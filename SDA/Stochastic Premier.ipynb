{
 "cells": [
  {
   "cell_type": "markdown",
   "id": "409bdd04",
   "metadata": {},
   "source": [
    "# Random Variables"
   ]
  },
  {
   "cell_type": "markdown",
   "id": "7cba1782",
   "metadata": {},
   "source": [
    "### Definition: \n",
    "\n",
    "A random variable (RV) is a measurable function X: $\\Omega$ $\\to$ E.  $\\Omega$ $\\to$ all possibilities."
   ]
  },
  {
   "cell_type": "markdown",
   "id": "035862d5",
   "metadata": {},
   "source": [
    "* $\\textbf{Discrete RV:}$\n",
    "rolling a dice.\n",
    "* $\\textbf{Continuous RV:}$\n",
    "process measurements or production subject to smaller or larger derivations.\n"
   ]
  },
  {
   "cell_type": "markdown",
   "id": "ce1fa3e3",
   "metadata": {},
   "source": [
    "###  $\\textbf{Discrete RV:}$ \n",
    "\n",
    "$X(w)$ = ${ X_{1},  X_{2},  X_{3}, ..., X_{n}}$ for  $w \\in \\Omega.$"
   ]
  },
  {
   "cell_type": "markdown",
   "id": "9d1658ff",
   "metadata": {},
   "source": [
    "$P(a \\geqslant X \\le b) = \\sum_{a \\geqslant X \\le b}^{}P(X=x_{i})$"
   ]
  },
  {
   "cell_type": "markdown",
   "id": "6189d134",
   "metadata": {},
   "source": [
    "### $\\textbf{Continuous RV:}$\n",
    "\n",
    "X is a continuous RV if $\\exists$ continuous functions $f:\\mathbb{R} \\to [0, \\infty)$ "
   ]
  },
  {
   "cell_type": "markdown",
   "id": "fbfd99b9",
   "metadata": {},
   "source": [
    "### 1.) $\\textbf{Mean (Expectation):}$\n",
    "\n",
    "$E[X] = \\hat{X} = \\sum_{i=1}^{n} x_{i}P(X=x_{i})$"
   ]
  },
  {
   "cell_type": "markdown",
   "id": "0634131e",
   "metadata": {},
   "source": [
    "### 2.) $\\textbf{Variance}$\n",
    "\n",
    "$\\sigma(X)^{2} = V(X) = E[(X-E[X]]^{2}$"
   ]
  },
  {
   "cell_type": "markdown",
   "id": "67afd2ab",
   "metadata": {},
   "source": [
    "### 3.)$\\textbf{Standard Derivation:}$\n",
    "\n",
    "$\\sigma(X) = \\sqrt{V(X)}$\n",
    "\n"
   ]
  },
  {
   "cell_type": "markdown",
   "id": "a94d89d4",
   "metadata": {},
   "source": [
    "### 4.) $\\textbf{Independence of RV's:}$\n",
    "\n",
    "\n",
    "The RV X and Y are independent if \n",
    "$P(X\\le x, Y\\le y) = P(X\\le x)P(Y \\le y)$\n"
   ]
  },
  {
   "cell_type": "markdown",
   "id": "4d1af217",
   "metadata": {},
   "source": [
    "* If  X and Y are independent, $E[XY] = E[X]E[Y]$"
   ]
  },
  {
   "cell_type": "markdown",
   "id": "21e69ded",
   "metadata": {},
   "source": [
    "### 5.) $\\textbf{Covariance:}$\n",
    "\n",
    "$Cov(X, Y) = E[(X-E[X])(Y-E[Y])]$ \n",
    "\n",
    "$Cov(X, Y) = E[XY]-E[X]E[Y]$\n"
   ]
  },
  {
   "cell_type": "markdown",
   "id": "33f5190c",
   "metadata": {},
   "source": [
    "### 6.) $\\textbf{Correlation between X and Y:}$"
   ]
  },
  {
   "cell_type": "markdown",
   "id": "bd799471",
   "metadata": {},
   "source": [
    "$Corr(X, Y)=\\varrho(X, Y) = \\frac{Cov(X,Y)}{\\sigma_{x}\\sigma{y}}$"
   ]
  },
  {
   "cell_type": "markdown",
   "id": "3a2096ed",
   "metadata": {},
   "source": [
    "$\\textbf{To my future students :)}$"
   ]
  }
 ],
 "metadata": {
  "kernelspec": {
   "display_name": "Python 3 (ipykernel)",
   "language": "python",
   "name": "python3"
  },
  "language_info": {
   "codemirror_mode": {
    "name": "ipython",
    "version": 3
   },
   "file_extension": ".py",
   "mimetype": "text/x-python",
   "name": "python",
   "nbconvert_exporter": "python",
   "pygments_lexer": "ipython3",
   "version": "3.10.9"
  }
 },
 "nbformat": 4,
 "nbformat_minor": 5
}
