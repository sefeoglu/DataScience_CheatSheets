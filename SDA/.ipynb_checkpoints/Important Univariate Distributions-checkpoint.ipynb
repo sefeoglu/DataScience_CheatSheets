{
 "cells": [
  {
   "cell_type": "markdown",
   "id": "94b0e06b",
   "metadata": {},
   "source": [
    "# Important Univariate Distributions"
   ]
  },
  {
   "cell_type": "markdown",
   "id": "4fab3615",
   "metadata": {},
   "source": [
    "### 1.) Binomial Distribution"
   ]
  },
  {
   "cell_type": "markdown",
   "id": "07280c31",
   "metadata": {},
   "source": []
  },
  {
   "cell_type": "markdown",
   "id": "35493ddb",
   "metadata": {},
   "source": [
    "###  2.) Poisson Distribution"
   ]
  },
  {
   "cell_type": "markdown",
   "id": "e064896b",
   "metadata": {},
   "source": []
  },
  {
   "cell_type": "markdown",
   "id": "28d7bba8",
   "metadata": {},
   "source": [
    "### 3.) Normall Distribution"
   ]
  },
  {
   "cell_type": "markdown",
   "id": "0824d619",
   "metadata": {},
   "source": [
    "### 4.)  Standard Normal Distribution"
   ]
  },
  {
   "cell_type": "markdown",
   "id": "abf9e822",
   "metadata": {},
   "source": [
    "### 5.) Beta Distribution"
   ]
  },
  {
   "cell_type": "markdown",
   "id": "e3e08710",
   "metadata": {},
   "source": [
    "### 6.) Gamma Distribution"
   ]
  },
  {
   "cell_type": "markdown",
   "id": "4e0df3a2",
   "metadata": {},
   "source": []
  }
 ],
 "metadata": {
  "kernelspec": {
   "display_name": "Python 3 (ipykernel)",
   "language": "python",
   "name": "python3"
  },
  "language_info": {
   "codemirror_mode": {
    "name": "ipython",
    "version": 3
   },
   "file_extension": ".py",
   "mimetype": "text/x-python",
   "name": "python",
   "nbconvert_exporter": "python",
   "pygments_lexer": "ipython3",
   "version": "3.10.9"
  }
 },
 "nbformat": 4,
 "nbformat_minor": 5
}
